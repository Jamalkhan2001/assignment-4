{
 "cells": [
  {
   "cell_type": "code",
   "execution_count": 2,
   "id": "f1501904",
   "metadata": {},
   "outputs": [
    {
     "name": "stdout",
     "output_type": "stream",
     "text": [
      "enter the number1 : 12\n",
      "enter the number2 : 33\n",
      "enter the function : addition\n",
      "sum is \n",
      "45\n"
     ]
    }
   ],
   "source": [
    "num1=int(input(\"enter the number1 : \"))\n",
    "num2=int(input(\"enter the number2 : \"))\n",
    "functions=str(input(\"enter the function : \"))\n",
    "if functions==\"addition\":\n",
    "    sum=num1+num2\n",
    "    print(\"sum is \")\n",
    "    print(sum)\n",
    "elif functions==\"subtraction\":\n",
    "    subtraction=num1-num2\n",
    "    print(\"subtraction is \")\n",
    "    print(subtraction)\n",
    "elif functions==\"division\":\n",
    "    division=num1/num2;\n",
    "    print(\"division is \")\n",
    "    print(division)\n",
    "elif functions==\"multiplication\":\n",
    "    multiplication=num1*num2;\n",
    "    print(\"multiplication is \")\n",
    "    print(multiplication)\n",
    "elif functions==\"power\":\n",
    "    power=num1**num2;\n",
    "    print(\"power is \")\n",
    "    print(power)\n",
    "else: \n",
    "    print(\"enter valid function\")\n"
   ]
  },
  {
   "cell_type": "code",
   "execution_count": 3,
   "id": "f8b45edd",
   "metadata": {},
   "outputs": [
    {
     "name": "stdout",
     "output_type": "stream",
     "text": [
      "[14, 15, 16, 17, 18]\n"
     ]
    }
   ],
   "source": [
    "a=[10,11,12,13,14,15,16,17,18]\n",
    "b=[14,15,16,17,18,19,20,21]\n",
    "c=[]\n",
    "for i in a:\n",
    "    for j in b:\n",
    "        if i==j:\n",
    "            c.append(i)\n",
    "print(c)\n"
   ]
  },
  {
   "cell_type": "code",
   "execution_count": 4,
   "id": "6167be90",
   "metadata": {},
   "outputs": [
    {
     "name": "stdout",
     "output_type": "stream",
     "text": [
      "{'student1': 'Imad khan', 'student2': 'Bahlol khan', 'student3': 'Jamal khan', 'student4': 'yasir khan'}\n"
     ]
    }
   ],
   "source": [
    "z=[\"student1\",\"student2\",\"student3\",\"student4\"]#keys\n",
    "x=[\"Imad khan\",\"Bahlol khan\",\"Jamal khan\",\"yasir khan\"]\n",
    "dictionary={}\n",
    "for keys in z:\n",
    "    for value in x:\n",
    "        dictionary[keys]=value\n",
    "        x.remove(value)\n",
    "        break\n",
    "print(dictionary)"
   ]
  },
  {
   "cell_type": "code",
   "execution_count": null,
   "id": "a51dcf71",
   "metadata": {},
   "outputs": [],
   "source": []
  }
 ],
 "metadata": {
  "kernelspec": {
   "display_name": "Python 3",
   "language": "python",
   "name": "python3"
  },
  "language_info": {
   "codemirror_mode": {
    "name": "ipython",
    "version": 3
   },
   "file_extension": ".py",
   "mimetype": "text/x-python",
   "name": "python",
   "nbconvert_exporter": "python",
   "pygments_lexer": "ipython3",
   "version": "3.8.8"
  }
 },
 "nbformat": 4,
 "nbformat_minor": 5
}
